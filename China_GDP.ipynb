{
  "nbformat": 4,
  "nbformat_minor": 0,
  "metadata": {
    "colab": {
      "name": "China_GDP",
      "provenance": [],
      "collapsed_sections": [],
      "authorship_tag": "ABX9TyPsvXIn+spZOJ6fRNuFHusj",
      "include_colab_link": true
    },
    "kernelspec": {
      "name": "python3",
      "display_name": "Python 3"
    }
  },
  "cells": [
    {
      "cell_type": "markdown",
      "metadata": {
        "id": "view-in-github",
        "colab_type": "text"
      },
      "source": [
        "<a href=\"https://colab.research.google.com/github/Badal7Kashyap/Projects_Resume/blob/master/China_GDP.ipynb\" target=\"_parent\"><img src=\"https://colab.research.google.com/assets/colab-badge.svg\" alt=\"Open In Colab\"/></a>"
      ]
    },
    {
      "cell_type": "code",
      "metadata": {
        "id": "mJWEv-2j-J5i",
        "colab_type": "code",
        "colab": {
          "base_uri": "https://localhost:8080/",
          "height": 54
        },
        "outputId": "bd0056d6-5137-4541-f3ab-d39467f047fe"
      },
      "source": [
        "!wget -nv -O china_gdp.csv https://s3-api.us-geo.objectstorage.softlayer.net/cf-courses-data/CognitiveClass/ML0101ENv3/labs/china_gdp.csv"
      ],
      "execution_count": null,
      "outputs": [
        {
          "output_type": "stream",
          "text": [
            "2020-08-30 07:56:46 URL:https://s3-api.us-geo.objectstorage.softlayer.net/cf-courses-data/CognitiveClass/ML0101ENv3/labs/china_gdp.csv [1218/1218] -> \"china_gdp.csv\" [1]\n"
          ],
          "name": "stdout"
        }
      ]
    },
    {
      "cell_type": "code",
      "metadata": {
        "id": "94gX8Z0f_hq5",
        "colab_type": "code",
        "colab": {}
      },
      "source": [
        "import pandas as pd\n",
        "import numpy as np\n",
        "from matplotlib import pyplot as plt"
      ],
      "execution_count": null,
      "outputs": []
    },
    {
      "cell_type": "code",
      "metadata": {
        "id": "ArDtEtHX_7Jy",
        "colab_type": "code",
        "colab": {
          "base_uri": "https://localhost:8080/",
          "height": 206
        },
        "outputId": "92669a3f-fbbd-4de7-d682-0e8ceb9c9cf9"
      },
      "source": [
        "df=pd.read_csv(\"china_gdp.csv\")\n",
        "df.head()"
      ],
      "execution_count": null,
      "outputs": [
        {
          "output_type": "execute_result",
          "data": {
            "text/html": [
              "<div>\n",
              "<style scoped>\n",
              "    .dataframe tbody tr th:only-of-type {\n",
              "        vertical-align: middle;\n",
              "    }\n",
              "\n",
              "    .dataframe tbody tr th {\n",
              "        vertical-align: top;\n",
              "    }\n",
              "\n",
              "    .dataframe thead th {\n",
              "        text-align: right;\n",
              "    }\n",
              "</style>\n",
              "<table border=\"1\" class=\"dataframe\">\n",
              "  <thead>\n",
              "    <tr style=\"text-align: right;\">\n",
              "      <th></th>\n",
              "      <th>Year</th>\n",
              "      <th>Value</th>\n",
              "    </tr>\n",
              "  </thead>\n",
              "  <tbody>\n",
              "    <tr>\n",
              "      <th>0</th>\n",
              "      <td>1960</td>\n",
              "      <td>5.918412e+10</td>\n",
              "    </tr>\n",
              "    <tr>\n",
              "      <th>1</th>\n",
              "      <td>1961</td>\n",
              "      <td>4.955705e+10</td>\n",
              "    </tr>\n",
              "    <tr>\n",
              "      <th>2</th>\n",
              "      <td>1962</td>\n",
              "      <td>4.668518e+10</td>\n",
              "    </tr>\n",
              "    <tr>\n",
              "      <th>3</th>\n",
              "      <td>1963</td>\n",
              "      <td>5.009730e+10</td>\n",
              "    </tr>\n",
              "    <tr>\n",
              "      <th>4</th>\n",
              "      <td>1964</td>\n",
              "      <td>5.906225e+10</td>\n",
              "    </tr>\n",
              "  </tbody>\n",
              "</table>\n",
              "</div>"
            ],
            "text/plain": [
              "   Year         Value\n",
              "0  1960  5.918412e+10\n",
              "1  1961  4.955705e+10\n",
              "2  1962  4.668518e+10\n",
              "3  1963  5.009730e+10\n",
              "4  1964  5.906225e+10"
            ]
          },
          "metadata": {
            "tags": []
          },
          "execution_count": 3
        }
      ]
    },
    {
      "cell_type": "code",
      "metadata": {
        "id": "dEFSb--AALsH",
        "colab_type": "code",
        "colab": {
          "base_uri": "https://localhost:8080/",
          "height": 399
        },
        "outputId": "46d6c741-512a-4d4a-d8f9-a2069e8f7225"
      },
      "source": [
        "plt.figure(figsize=(14,6))\n",
        "plt.scatter(df['Year'],df['Value'],marker='o',color='purple')\n",
        "plt.xlabel(\"YEAR\")\n",
        "plt.ylabel(\"GDP\")\n",
        "plt.show()"
      ],
      "execution_count": null,
      "outputs": [
        {
          "output_type": "display_data",
          "data": {
            "image/png": "[encoded data removed]",
            "text/plain": [
              "<Figure size 1008x432 with 1 Axes>"
            ]
          },
          "metadata": {
            "tags": [],
            "needs_background": "light"
          }
        }
      ]
    },
    {
      "cell_type": "markdown",
      "metadata": {
        "id": "Z0q6XpOmECK9",
        "colab_type": "text"
      },
      "source": [
        "Logistic Model Visualization"
      ]
    },
    {
      "cell_type": "code",
      "metadata": {
        "id": "Xy_19Yw4EIWG",
        "colab_type": "code",
        "colab": {
          "base_uri": "https://localhost:8080/",
          "height": 280
        },
        "outputId": "1edbb11a-d88f-432a-fcce-17c9a18f82b8"
      },
      "source": [
        "X=np.arange(-5.0,5.0,0.1)\n",
        "B_1=1.0\n",
        "B_2=0.0\n",
        "Y=1.0/(1.0+np.exp(-B_1*(X-B_2)))\n",
        "plt.xlabel('Independent_Variable')\n",
        "plt.ylabel('Dependent_Variable')\n",
        "plt.plot(X,Y)\n",
        "plt.show()"
      ],
      "execution_count": null,
      "outputs": [
        {
          "output_type": "display_data",
          "data": {
            "image/png": "[encoded data removed]",
            "text/plain": [
              "<Figure size 432x288 with 1 Axes>"
            ]
          },
          "metadata": {
            "tags": [],
            "needs_background": "light"
          }
        }
      ]
    },
    {
      "cell_type": "code",
      "metadata": {
        "id": "vTvyu3GGJ9Dq",
        "colab_type": "code",
        "colab": {}
      },
      "source": [
        "x, y = (df[\"Year\"].values, df[\"Value\"].values)\n",
        "m=np.size(x)"
      ],
      "execution_count": null,
      "outputs": []
    },
    {
      "cell_type": "markdown",
      "metadata": {
        "id": "iOCQgm6WIpX7",
        "colab_type": "text"
      },
      "source": [
        "Sigmoid funtion: 1/(1+np.exp(-beta_1*(x-Beta_2)))"
      ]
    },
    {
      "cell_type": "code",
      "metadata": {
        "id": "413_MNeBGScW",
        "colab_type": "code",
        "colab": {}
      },
      "source": [
        "def sigmoid(x,Beta_1,Beta_2):\n",
        "    pred=1/(1+np.exp(-Beta_1*(x-Beta_2)))\n",
        "    return pred"
      ],
      "execution_count": null,
      "outputs": []
    },
    {
      "cell_type": "code",
      "metadata": {
        "id": "-JAqLN9sJqGO",
        "colab_type": "code",
        "colab": {
          "base_uri": "https://localhost:8080/",
          "height": 276
        },
        "outputId": "ea8e0fb7-a113-4d3f-b0a4-d2d3605ee430"
      },
      "source": [
        "Beta_1=0.03\n",
        "Beta_2=199.0\n",
        "\n",
        "prediction=sigmoid(x,Beta_1,Beta_2)\n",
        "plt.plot(x,y,'ro')\n",
        "plt.plot(x,prediction,color='purple')\n",
        "plt.show()"
      ],
      "execution_count": null,
      "outputs": [
        {
          "output_type": "display_data",
          "data": {
            "image/png": "[encoded data removed]",
            "text/plain": [
              "<Figure size 432x288 with 1 Axes>"
            ]
          },
          "metadata": {
            "tags": [],
            "needs_background": "light"
          }
        }
      ]
    },
    {
      "cell_type": "markdown",
      "metadata": {
        "id": "_4EiWD7XPhrK",
        "colab_type": "text"
      },
      "source": [
        "Noramlization Of Data"
      ]
    },
    {
      "cell_type": "code",
      "metadata": {
        "id": "TxNCSHHoPSlC",
        "colab_type": "code",
        "colab": {}
      },
      "source": [
        "x=x/np.max(x)\n",
        "#y=y/np.max(y)"
      ],
      "execution_count": null,
      "outputs": []
    },
    {
      "cell_type": "code",
      "metadata": {
        "id": "TA14gOToP3nW",
        "colab_type": "code",
        "colab": {
          "base_uri": "https://localhost:8080/",
          "height": 69
        },
        "outputId": "b9c23d33-5c69-42d1-a100-598599f9b7d7"
      },
      "source": [
        "from scipy.optimize import curve_fit\n",
        "x=x.reshape(m)\n",
        "y=y.reshape(m) \n",
        "para,para_cov=curve_fit(sigmoid,x,y)\n",
        "print(\"Paramenters \\n\")\n",
        "print(\"Beta_1= %.3f, Beta_2= %.3f \"%(para[0],para[1]))"
      ],
      "execution_count": null,
      "outputs": [
        {
          "output_type": "stream",
          "text": [
            "Paramenters \n",
            "\n",
            "Beta_1= 690.453, Beta_2= 0.997 \n"
          ],
          "name": "stdout"
        }
      ]
    },
    {
      "cell_type": "code",
      "metadata": {
        "id": "-F_sLGE4WD6J",
        "colab_type": "code",
        "colab": {
          "base_uri": "https://localhost:8080/",
          "height": 404
        },
        "outputId": "933c0767-24ca-45d7-eff6-226245fc2a3a"
      },
      "source": [
        "modified_prediction=sigmoid(x,para[0],para[1])\n",
        "plt.figure(figsize=(14,6))\n",
        "plt.plot(x,y,'ro',label='Data')\n",
        "plt.plot(x,modified_prediction,label='Best Fit Line',linewidth=4.0)\n",
        "plt.xlabel('YEAR')\n",
        "plt.ylabel('GDP')\n",
        "plt.title('China GDP Growth')\n",
        "plt.legend(loc='best')\n",
        "plt.show()\n"
      ],
      "execution_count": null,
      "outputs": [
        {
          "output_type": "display_data",
          "data": {
            "image/png": "[encoded data removed]",
            "text/plain": [
              "<Figure size 1008x432 with 1 Axes>"
            ]
          },
          "metadata": {
            "tags": [],
            "needs_background": "light"
          }
        }
      ]
    },
    {
      "cell_type": "markdown",
      "metadata": {
        "id": "seUuxm0fm0ij",
        "colab_type": "text"
      },
      "source": [
        "Double-click __here__ for the solution.\n",
        "\n",
        "<!-- Your answer is below:\n",
        "    \n",
        "# split data into train/test\n",
        "msk = np.random.rand(len(df)) < 0.8\n",
        "train_x = xdata[msk]\n",
        "test_x = xdata[~msk]\n",
        "train_y = ydata[msk]\n",
        "test_y = ydata[~msk]\n",
        "\n",
        "# build the model using train set\n",
        "popt, pcov = curve_fit(sigmoid, train_x, train_y)\n",
        "\n",
        "# predict using test set\n",
        "y_hat = sigmoid(test_x, *popt)\n",
        "\n",
        "# evaluation\n",
        "print(\"Mean absolute error: %.2f\" % np.mean(np.absolute(y_hat - test_y)))\n",
        "print(\"Residual sum of squares (MSE): %.2f\" % np.mean((y_hat - test_y) ** 2))\n",
        "from sklearn.metrics import r2_score\n",
        "print(\"R2-score: %.2f\" % r2_score(y_hat , test_y) )\n",
        "\n",
        "-->"
      ]
    },
    {
      "cell_type": "code",
      "metadata": {
        "id": "CVeIvkgpMiO4",
        "colab_type": "code",
        "colab": {}
      },
      "source": [
        "msk = np.random.rand(len(x)) < 0.7\n",
        "train_x = x[msk]\n",
        "test_x = x[~msk]\n",
        "train_y = y[msk]\n",
        "test_y = y[~msk]"
      ],
      "execution_count": null,
      "outputs": []
    },
    {
      "cell_type": "code",
      "metadata": {
        "id": "iNmA5mw9EZ0u",
        "colab_type": "code",
        "colab": {
          "base_uri": "https://localhost:8080/",
          "height": 34
        },
        "outputId": "fdfcfacf-dac1-4c84-f70d-d28b0ee87310"
      },
      "source": [
        "model_parameters,model_conv=curve_fit(sigmoid,train_x,train_y)\n",
        "\n",
        "model_parameters"
      ],
      "execution_count": null,
      "outputs": [
        {
          "output_type": "execute_result",
          "data": {
            "text/plain": [
              "array([608.87221521,   0.99710744])"
            ]
          },
          "metadata": {
            "tags": []
          },
          "execution_count": 29
        }
      ]
    },
    {
      "cell_type": "code",
      "metadata": {
        "id": "sQ48TZ_NnJvR",
        "colab_type": "code",
        "colab": {
          "base_uri": "https://localhost:8080/",
          "height": 121
        },
        "outputId": "1a3e5443-4ad5-41c9-b7c1-11d06c962c41"
      },
      "source": [
        "model_prediction=sigmoid(test_x,model_parameters[0],model_parameters[1])\n",
        "model_prediction"
      ],
      "execution_count": null,
      "outputs": [
        {
          "output_type": "execute_result",
          "data": {
            "text/plain": [
              "array([4.73045195e-07, 8.65952691e-07, 1.17162838e-06, 2.40845446e-05,\n",
              "       3.25859659e-05, 8.07044071e-05, 1.09189463e-04, 1.47726988e-04,\n",
              "       3.65807545e-04, 4.94871489e-04, 1.22479304e-03, 7.46646872e-03,\n",
              "       1.00755317e-02, 1.35838210e-02, 1.02572744e-01, 1.33930987e-01,\n",
              "       1.73027617e-01, 2.76942199e-01, 3.41332793e-01, 4.12160622e-01,\n",
              "       6.34580698e-01, 7.60706856e-01, 8.11361100e-01])"
            ]
          },
          "metadata": {
            "tags": []
          },
          "execution_count": 30
        }
      ]
    },
    {
      "cell_type": "code",
      "metadata": {
        "id": "vltCHI2qnmqI",
        "colab_type": "code",
        "colab": {
          "base_uri": "https://localhost:8080/",
          "height": 404
        },
        "outputId": "675e23d8-da47-4ee1-a144-821c8d52ccd7"
      },
      "source": [
        "plt.figure(figsize=(14,6))\n",
        "plt.plot(test_x,test_y,'ro',label='Actual')\n",
        "plt.plot(test_x,model_prediction,label='Prediction')\n",
        "plt.legend(loc='best')\n",
        "plt.title('Final Prediction')\n",
        "plt.xlabel('Year')\n",
        "plt.ylabel('GDP')\n",
        "plt.show()"
      ],
      "execution_count": null,
      "outputs": [
        {
          "output_type": "display_data",
          "data": {
            "image/png": "[encoded data removed]",
            "text/plain": [
              "<Figure size 1008x432 with 1 Axes>"
            ]
          },
          "metadata": {
            "tags": [],
            "needs_background": "light"
          }
        }
      ]
    },
    {
      "cell_type": "code",
      "metadata": {
        "id": "GC2VgOTzp1w5",
        "colab_type": "code",
        "colab": {
          "base_uri": "https://localhost:8080/",
          "height": 69
        },
        "outputId": "ada47a99-adb5-4c9d-dcff-e7060c6e69c6"
      },
      "source": [
        "from sklearn.metrics import r2_score\n",
        "\n",
        "print(\"R2 Score: %.2f\"%r2_score(model_prediction,test_y))\n",
        "print(\"Mean Absolute Error: %.2f\"%np.mean(np.absolute(model_prediction-test_y)))\n",
        "print(\"Mean Square Error: %.2f\"%np.mean(np.square(model_prediction-test_y)))"
      ],
      "execution_count": null,
      "outputs": [
        {
          "output_type": "stream",
          "text": [
            "R2 Score: 0.97\n",
            "Mean Absolute Error: 0.03\n",
            "Mean Square Error: 0.00\n"
          ],
          "name": "stdout"
        }
      ]
    },
    {
      "cell_type": "code",
      "metadata": {
        "id": "TIEIhj7jtp3k",
        "colab_type": "code",
        "colab": {
          "base_uri": "https://localhost:8080/",
          "height": 279
        },
        "outputId": "9ce2cc98-b9ad-4e21-ae71-dd7ac1d9a24c"
      },
      "source": [
        "x = np.arange(-5.0, 5.0, 0.1)\n",
        "\n",
        "##You can adjust the slope and intercept to verify the changes in the graph\n",
        "y = 1*(x**3) + 1*(x**2) + 1*x + 3\n",
        "y_noise = 10 * np.random.normal(size=x.size)\n",
        "ydata = y + y_noise\n",
        "plt.plot(x, ydata,  'bo')\n",
        "plt.plot(x,y, 'r') \n",
        "plt.ylabel('Dependent Variable')\n",
        "plt.xlabel('Indepdendent Variable')\n",
        "plt.show()"
      ],
      "execution_count": null,
      "outputs": [
        {
          "output_type": "display_data",
          "data": {
            "image/png": "[encoded data removed]",
            "text/plain": [
              "<Figure size 432x288 with 1 Axes>"
            ]
          },
          "metadata": {
            "tags": [],
            "needs_background": "light"
          }
        }
      ]
    }
  ]
}